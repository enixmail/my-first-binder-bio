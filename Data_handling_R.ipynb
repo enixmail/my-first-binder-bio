{
 "cells": [
  {
   "cell_type": "markdown",
   "id": "1eab1e79-8855-4600-87c3-e1265aefb3aa",
   "metadata": {},
   "source": [
    "# Data handling with R"
   ]
  },
  {
   "cell_type": "code",
   "execution_count": 4,
   "id": "e445897a-b11f-482a-9d8d-094bb648df2f",
   "metadata": {},
   "outputs": [],
   "source": [
    "library(tidyverse)"
   ]
  },
  {
   "cell_type": "code",
   "execution_count": 7,
   "id": "c3e88ecc-8358-4c40-b323-eab7646d8267",
   "metadata": {},
   "outputs": [
    {
     "data": {
      "text/html": [
       "<table class=\"dataframe\">\n",
       "<caption>A data.frame: 4 × 2</caption>\n",
       "<thead>\n",
       "\t<tr><th></th><th scope=col>Name</th><th scope=col>Age</th></tr>\n",
       "\t<tr><th></th><th scope=col>&lt;chr&gt;</th><th scope=col>&lt;int&gt;</th></tr>\n",
       "</thead>\n",
       "<tbody>\n",
       "\t<tr><th scope=row>1</th><td>John   </td><td>30</td></tr>\n",
       "\t<tr><th scope=row>2</th><td>Albert </td><td>42</td></tr>\n",
       "\t<tr><th scope=row>3</th><td>Sofia  </td><td>34</td></tr>\n",
       "\t<tr><th scope=row>4</th><td>Alfonso</td><td>22</td></tr>\n",
       "</tbody>\n",
       "</table>\n"
      ],
      "text/latex": [
       "A data.frame: 4 × 2\n",
       "\\begin{tabular}{r|ll}\n",
       "  & Name & Age\\\\\n",
       "  & <chr> & <int>\\\\\n",
       "\\hline\n",
       "\t1 & John    & 30\\\\\n",
       "\t2 & Albert  & 42\\\\\n",
       "\t3 & Sofia   & 34\\\\\n",
       "\t4 & Alfonso & 22\\\\\n",
       "\\end{tabular}\n"
      ],
      "text/markdown": [
       "\n",
       "A data.frame: 4 × 2\n",
       "\n",
       "| <!--/--> | Name &lt;chr&gt; | Age &lt;int&gt; |\n",
       "|---|---|---|\n",
       "| 1 | John    | 30 |\n",
       "| 2 | Albert  | 42 |\n",
       "| 3 | Sofia   | 34 |\n",
       "| 4 | Alfonso | 22 |\n",
       "\n"
      ],
      "text/plain": [
       "  Name    Age\n",
       "1 John    30 \n",
       "2 Albert  42 \n",
       "3 Sofia   34 \n",
       "4 Alfonso 22 "
      ]
     },
     "metadata": {},
     "output_type": "display_data"
    }
   ],
   "source": [
    "df <- read.csv(\"data.csv\")\n",
    "head(df)"
   ]
  },
  {
   "cell_type": "code",
   "execution_count": 8,
   "id": "f4334286-7e03-4806-9481-fbc5850fa2a4",
   "metadata": {},
   "outputs": [
    {
     "data": {
      "image/png": "[encoded data removed]",
      "text/plain": [
       "plot without title"
      ]
     },
     "metadata": {
      "image/png": {
       "height": 420,
       "width": 420
      }
     },
     "output_type": "display_data"
    }
   ],
   "source": [
    "df %>%\n",
    "    ggplot(aes(x=Name, y=Age)) +\n",
    "    geom_bar(stat=\"identity\")"
   ]
  }
 ],
 "metadata": {
  "kernelspec": {
   "display_name": "R",
   "language": "R",
   "name": "ir"
  },
  "language_info": {
   "codemirror_mode": "r",
   "file_extension": ".r",
   "mimetype": "text/x-r-source",
   "name": "R",
   "pygments_lexer": "r",
   "version": "4.1.3"
  }
 },
 "nbformat": 4,
 "nbformat_minor": 5
}
